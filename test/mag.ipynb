{
 "cells": [
  {
   "cell_type": "code",
   "execution_count": null,
   "metadata": {},
   "outputs": [],
   "source": [
    "import numpy as np"
   ]
  },
  {
   "cell_type": "code",
   "execution_count": null,
   "metadata": {},
   "outputs": [],
   "source": [
    "%matplotlib inline\n",
    "import matplotlib.pyplot as plt"
   ]
  },
  {
   "cell_type": "code",
   "execution_count": null,
   "metadata": {},
   "outputs": [],
   "source": [
    "from astropy.io import fits\n",
    "from astropy.cosmology import Planck15 as cosmo"
   ]
  },
  {
   "cell_type": "code",
   "execution_count": null,
   "metadata": {},
   "outputs": [],
   "source": [
    "# import forward test module\n",
    "import fwtest"
   ]
  },
  {
   "cell_type": "code",
   "execution_count": null,
   "metadata": {},
   "outputs": [],
   "source": [
    "# load `forward' magnitudes module\n",
    "from forward import mag"
   ]
  },
  {
   "cell_type": "code",
   "execution_count": null,
   "metadata": {},
   "outputs": [],
   "source": [
    "# the SEDs we want to use\n",
    "sed_fits = fits.open('k_nmf_derived.default.fits')"
   ]
  },
  {
   "cell_type": "code",
   "execution_count": null,
   "metadata": {},
   "outputs": [],
   "source": [
    "# emitted wavelength lambda and SED function f\n",
    "le = sed_fits[11].data\n",
    "fe = sed_fits[1].data"
   ]
  },
  {
   "cell_type": "code",
   "execution_count": null,
   "metadata": {},
   "outputs": [],
   "source": [
    "# make sure shapes are ok\n",
    "np.shape(le), np.shape(fe)"
   ]
  },
  {
   "cell_type": "code",
   "execution_count": null,
   "metadata": {},
   "outputs": [],
   "source": [
    "# number of SEDs\n",
    "nsed = len(fe)"
   ]
  },
  {
   "cell_type": "code",
   "execution_count": null,
   "metadata": {},
   "outputs": [],
   "source": [
    "# filter bands to use\n",
    "bands = 'griz'"
   ]
  },
  {
   "cell_type": "code",
   "execution_count": null,
   "metadata": {},
   "outputs": [],
   "source": [
    "# the filters for our instrument\n",
    "filt_fits = fits.open('STD_BANDPASSES_Y3A2_20170715.fits')"
   ]
  },
  {
   "cell_type": "code",
   "execution_count": null,
   "metadata": {},
   "outputs": [],
   "source": [
    "# get the filter columns\n",
    "lx = filt_fits[1].data['LAMBDA']\n",
    "Rx = [filt_fits[1].data[b] for b in bands]"
   ]
  },
  {
   "cell_type": "code",
   "execution_count": null,
   "metadata": {},
   "outputs": [],
   "source": [
    "# redshift range\n",
    "z = np.arange(0, 4, 0.01)"
   ]
  },
  {
   "cell_type": "code",
   "execution_count": null,
   "metadata": {},
   "outputs": [],
   "source": [
    "# compute AB magnitudes\n",
    "m = mag.abmag(z, le, fe, lx, Rx, cosmo)"
   ]
  },
  {
   "cell_type": "code",
   "execution_count": null,
   "metadata": {},
   "outputs": [],
   "source": [
    "# the shape should be (len(z), len(fe), len(Rx))\n",
    "np.shape(m)"
   ]
  },
  {
   "cell_type": "code",
   "execution_count": null,
   "metadata": {},
   "outputs": [],
   "source": [
    "# plot the integraded SED values\n",
    "plt.figure(figsize=(8, 6))\n",
    "for i, b in enumerate(bands):\n",
    "    plt.subplot(len(bands)//2, np.ceil(len(bands)/(len(bands)//2)), i+1)\n",
    "    plt.title(r'${}$-band'.format(b))\n",
    "    plt.xlabel('$z$')\n",
    "    plt.ylabel('mag')\n",
    "    for j in range(nsed):\n",
    "        plt.plot(z, m[:,j,i])\n",
    "plt.tight_layout()\n",
    "plt.show()"
   ]
  },
  {
   "cell_type": "code",
   "execution_count": null,
   "metadata": {},
   "outputs": [],
   "source": [
    "# compute colours wrt. to r-band\n",
    "c = m - m[:,:,[1]]"
   ]
  },
  {
   "cell_type": "code",
   "execution_count": null,
   "metadata": {},
   "outputs": [],
   "source": [
    "# plot the colours\n",
    "plt.figure(figsize=(8, 6))\n",
    "for i, b in enumerate(bands):\n",
    "    plt.subplot(len(bands)//2, np.ceil(len(bands)/(len(bands)//2)), i+1)\n",
    "    plt.title(r'${}-r$-band'.format(b))\n",
    "    plt.xlabel('$z$')\n",
    "    plt.ylabel('mag')\n",
    "    for j in range(nsed):\n",
    "        plt.plot(z, c[:,j,i])\n",
    "plt.tight_layout()\n",
    "plt.show()"
   ]
  },
  {
   "cell_type": "code",
   "execution_count": null,
   "metadata": {},
   "outputs": [],
   "source": []
  }
 ],
 "metadata": {
  "kernelspec": {
   "display_name": "Python 3",
   "language": "python",
   "name": "python3"
  },
  "language_info": {
   "codemirror_mode": {
    "name": "ipython",
    "version": 3
   },
   "file_extension": ".py",
   "mimetype": "text/x-python",
   "name": "python",
   "nbconvert_exporter": "python",
   "pygments_lexer": "ipython3",
   "version": "3.6.8"
  }
 },
 "nbformat": 4,
 "nbformat_minor": 1
}
